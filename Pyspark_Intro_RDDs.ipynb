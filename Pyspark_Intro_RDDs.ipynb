{
 "cells": [
  {
   "cell_type": "markdown",
   "id": "6fe5118a",
   "metadata": {},
   "source": [
    "# 95-869: Big Data and Large-Scale Computing Homework 1\n",
    "\n",
    "## Introduction to PySpark and RDDs\n",
    "\n",
    "The volume of unstructured text in existence is growing dramatically, and Spark is an excellent tool for analyzing this type of data.  In this homework, we will write code that calculates the most common words in the [Complete Works of William Shakespeare](http://www.gutenberg.org/ebooks/100) retrieved from [Project Gutenberg](http://www.gutenberg.org/wiki/Main_Page).\n",
    "\n",
    "This could also be scaled to find the most common words in Wikipedia.\n",
    "\n",
    "## In this homework, we will cover:\n",
    "\n",
    "* *Part 1 (25 Points):* Creating a base RDD and pair RDDs\n",
    "* *Part 2 (25 Points):* Counting with pair RDDs\n",
    "* *Part 3 (25 Points):* Calculating wordsRDD Properties with Reduce()\n",
    "* *Part 4 (25 Points):* Apply word count to a file\n",
    "\n",
    "## Homework Requirements:\n",
    "\n",
    "All exercises will include an explanation of what is expected, followed by code cells where one cell will have one or more `<FILL IN>` sections.  The cell that needs to be modified will have `# TODO: Replace <FILL IN> with appropriate code` on its first line.\n",
    "\n",
    "## Submission Instructions:\n",
    "\n",
    "You will submit a zipped file on Canvas by the deadline date.\n",
    "\n",
    "Rename the notebook from \"hw1_pyspark_rdd_student.ipynb\" to \"andrewid_hw1_pyspark_rdd_student.ipynb\" where \"andrewid\" is your actual Andrew ID. Complete the assignment, execute all cells in the completed notebook, and make sure all results show up. Export the contents of the notebook by choosing \"File > Download as > HTML\" and saving the resulting file as \"andrewid_hw1_pyspark_rdd_student.html\" Place the two files \"andrewid_hw1_pyspark_rdd_student.ipynb\" and \"andrewid_hw1_pyspark_rdd_student.html\" in a folder, zip the folder to a zipped file named \"andrewid_hw1.zip\" and submit it to Canvas by the deadline.\n",
    "\n",
    "#### Note that, for reference, you can look up the details of the relevant Spark methods in [Spark's Python API](https://spark.apache.org/docs/latest/api/python/pyspark.html#pyspark.RDD) and the relevant NumPy methods in the [NumPy Reference](http://docs.scipy.org/doc/numpy/reference/index.html)"
   ]
  },
  {
   "cell_type": "markdown",
   "id": "b6574e57",
   "metadata": {},
   "source": [
    "## Part 1: Creating a base RDD and pair RDDs\n",
    "\n",
    "In this part, we will explore creating a base RDD with `parallelize` and using pair RDDs to count words.\n",
    "\n",
    "Let's first start by creating the SparkContext"
   ]
  },
  {
   "cell_type": "code",
   "execution_count": 2,
   "id": "a6069518",
   "metadata": {},
   "outputs": [
    {
     "name": "stderr",
     "output_type": "stream",
     "text": [
      "24/03/24 16:24:11 WARN NativeCodeLoader: Unable to load native-hadoop library for your platform... using builtin-java classes where applicable\n",
      "Using Spark's default log4j profile: org/apache/spark/log4j-defaults.properties\n",
      "Setting default log level to \"WARN\".\n",
      "To adjust logging level use sc.setLogLevel(newLevel). For SparkR, use setLogLevel(newLevel).\n"
     ]
    },
    {
     "data": {
      "text/html": [
       "\n",
       "        <div>\n",
       "            <p><b>SparkContext</b></p>\n",
       "\n",
       "            <p><a href=\"http://r235.pvt.bridges2.psc.edu:4040\">Spark UI</a></p>\n",
       "\n",
       "            <dl>\n",
       "              <dt>Version</dt>\n",
       "                <dd><code>v3.0.1</code></dd>\n",
       "              <dt>Master</dt>\n",
       "                <dd><code>local[*]</code></dd>\n",
       "              <dt>AppName</dt>\n",
       "                <dd><code>pyspark-shell</code></dd>\n",
       "            </dl>\n",
       "        </div>\n",
       "        "
      ],
      "text/plain": [
       "<SparkContext master=local[*] appName=pyspark-shell>"
      ]
     },
     "execution_count": 2,
     "metadata": {},
     "output_type": "execute_result"
    }
   ],
   "source": [
    "import sys\n",
    "sys.path.append(\"/opt/packages/spark/latest/python/lib/py4j-0.10.9-src.zip\")\n",
    "sys.path.append(\"/opt/packages/spark/latest/python/\")\n",
    "sys.path.append(\"/opt/packages/spark/latest/python/pyspark\")\n",
    "from pyspark import SparkConf, SparkContext\n",
    "sc = SparkContext()\n",
    "sc"
   ]
  },
  {
   "cell_type": "markdown",
   "id": "7f368f22",
   "metadata": {},
   "source": [
    "### (1a) Create a base RDD\n",
    "We'll start by generating a base RDD by using a Python list and the `sc.parallelize` method.  Then we'll print out the type of the base RDD."
   ]
  },
  {
   "cell_type": "code",
   "execution_count": 3,
   "id": "d3a4a0fb",
   "metadata": {},
   "outputs": [
    {
     "name": "stdout",
     "output_type": "stream",
     "text": [
      "<class 'pyspark.rdd.RDD'>\n"
     ]
    }
   ],
   "source": [
    "wordsList = ['cat', 'elephant', 'rat', 'rat', 'cat']\n",
    "wordsRDD = sc.parallelize(wordsList, 4)\n",
    "# Print out the type of wordsRDD\n",
    "print (type(wordsRDD))"
   ]
  },
  {
   "cell_type": "markdown",
   "id": "861b53d3",
   "metadata": {},
   "source": [
    "### (1b) String Operations\n",
    "\n",
    "The following functions provide three typical string operations you can conduct on a string:\n",
    "\n",
    "(1) Pluralize,\n",
    "\n",
    "(2) Captialize,\n",
    "\n",
    "(3) Spell the word by inserting dashes between the characters.\n",
    "\n",
    "\n",
    "We have provided the three operations' implementations below, please verify by looking at inputs and outputs of the three operations, with our given example 'cat'."
   ]
  },
  {
   "cell_type": "code",
   "execution_count": 4,
   "id": "bf0729ec",
   "metadata": {},
   "outputs": [],
   "source": [
    "def makePlural(word):\n",
    "    \"\"\"Adds an 's' to `word`.\n",
    "    Note:\n",
    "        This is a simple function that only adds an 's'.  No attempt is made to follow proper\n",
    "        pluralization rules.\n",
    "    Args:\n",
    "        word (str): A string.\n",
    "    Returns:\n",
    "        str: A string with 's' added to it.\n",
    "    \"\"\"\n",
    "    return word + \"s\"\n",
    "\n",
    "def makeCapital(word):\n",
    "    \"\"\" Capitalize all characters for the 'word'\n",
    "    Args: \n",
    "        word (str): A string.\n",
    "    Retruns: \n",
    "        str: The same 'word' with all capital letters\n",
    "    \"\"\"\n",
    "    return word.upper()\n",
    "\n",
    "\n",
    "def insertDashes(word):\n",
    "    \"\"\" Insert dashes \"-\" between all characters for the 'word'\n",
    "    Args: \n",
    "        word (str): A string.\n",
    "    Retruns: \n",
    "        str: A str that is the same as input, but '-' are inserted between each characters\n",
    "             For example, 'word' will become 'w-o-r-d'\n",
    "    \"\"\"\n",
    "    return '-'.join(word)"
   ]
  },
  {
   "cell_type": "code",
   "execution_count": 5,
   "id": "506ed685",
   "metadata": {},
   "outputs": [
    {
     "name": "stdout",
     "output_type": "stream",
     "text": [
      "Plural forms for cat is: cats.\n",
      "Capitalized word for cat is: CAT.\n",
      "The word 'cat' is spelled as: c-a-t.\n"
     ]
    }
   ],
   "source": [
    "example = 'cat'\n",
    "print(f\"Plural forms for {example} is: {makePlural(example)}.\")\n",
    "print(f\"Capitalized word for {example} is: {makeCapital(example)}.\")\n",
    "print(f\"The word '{example}' is spelled as: {insertDashes(example)}.\")"
   ]
  },
  {
   "cell_type": "markdown",
   "id": "b7679d52",
   "metadata": {},
   "source": [
    "### (1c) Apply String Operations to the base RDD\n",
    "\n",
    "Let's explore how to apply the string operation to all data in the RDD. \n",
    "\n",
    "Pass each item in the base RDD into a [map()](http://spark.apache.org/docs/latest/api/python/pyspark.html#pyspark.RDD.map) transformation that applies the `makeCapital()` function to each element. And then call the [collect()](http://spark.apache.org/docs/latest/api/python/pyspark.html#pyspark.RDD.collect) action to see the transformed RDD.\n",
    "\n",
    "First, we want to convert all words in RDD to capitalized words. Please replace `<FILL IN>` with your solution.\n"
   ]
  },
  {
   "cell_type": "code",
   "execution_count": 6,
   "id": "756f6c4e",
   "metadata": {},
   "outputs": [
    {
     "name": "stderr",
     "output_type": "stream",
     "text": [
      "[Stage 0:>                                                          (0 + 2) / 4]\r"
     ]
    },
    {
     "name": "stdout",
     "output_type": "stream",
     "text": [
      "['CAT', 'ELEPHANT', 'RAT', 'RAT', 'CAT']\n"
     ]
    },
    {
     "name": "stderr",
     "output_type": "stream",
     "text": [
      "                                                                                \r"
     ]
    }
   ],
   "source": [
    "# TODO: Replace <FILL IN> with appropriate code\n",
    "capitalwordsRDD = wordsRDD.map(makeCapital)\n",
    "print (capitalwordsRDD.collect())"
   ]
  },
  {
   "cell_type": "markdown",
   "id": "f80e6f9d",
   "metadata": {},
   "source": [
    "### (1d) Pass a `lambda` function to `map`\n",
    "\n",
    "`lambda` functions in Python are anonymous functions that are created for one-time use. \n",
    "\n",
    "First, let's capitalize all words in RDD, by using a `lambda` function (without having to call makeCapital)."
   ]
  },
  {
   "cell_type": "code",
   "execution_count": 7,
   "id": "3399dd90",
   "metadata": {},
   "outputs": [
    {
     "name": "stdout",
     "output_type": "stream",
     "text": [
      "['CAT', 'ELEPHANT', 'RAT', 'RAT', 'CAT']\n"
     ]
    }
   ],
   "source": [
    "# TODO: Replace <FILL IN> with appropriate code\n",
    "capitalLambdaRDD = wordsRDD.map(lambda x: x.upper())\n",
    "print (capitalLambdaRDD.collect())"
   ]
  },
  {
   "cell_type": "markdown",
   "id": "1ea8b988",
   "metadata": {},
   "source": [
    "### (1e) Combine `map` and `lambda` functions \n",
    "\n",
    "Now use `map` and `lambda` functions with the previously provided three string operation functions, to spell out the word (insert dashes between the characters) with all capital letters. \n",
    "\n",
    "For example, passing in 'cat' should spell out 'C-A-T'."
   ]
  },
  {
   "cell_type": "code",
   "execution_count": 8,
   "id": "8b7ccc75",
   "metadata": {},
   "outputs": [
    {
     "name": "stdout",
     "output_type": "stream",
     "text": [
      "['C-A-T', 'E-L-E-P-H-A-N-T', 'R-A-T', 'R-A-T', 'C-A-T']\n"
     ]
    }
   ],
   "source": [
    "# TODO: Replace <FILL IN> with appropriate code\n",
    "spelledCapitalRDD = wordsRDD.map(lambda x: makeCapital(insertDashes(x)) )\n",
    "print(spelledCapitalRDD.collect())"
   ]
  },
  {
   "cell_type": "markdown",
   "id": "1b4e366d",
   "metadata": {},
   "source": [
    "### (1f) Pair RDDs\n",
    "\n",
    "The next step in writing our word counting program is to create a new type of RDD, called a pair RDD. A pair RDD is an RDD where each element is a pair tuple `(k, v)` where `k` is the key and `v` is the value. In this example, we will create a pair consisting of `('<word>', 1)` for each word element in the RDD.\n",
    "We can create the pair RDD using the `map()` transformation with a `lambda()` function to create a new RDD."
   ]
  },
  {
   "cell_type": "code",
   "execution_count": 9,
   "id": "78eaa57f",
   "metadata": {},
   "outputs": [
    {
     "name": "stdout",
     "output_type": "stream",
     "text": [
      "[('cat', 1), ('elephant', 1), ('rat', 1), ('rat', 1), ('cat', 1)]\n"
     ]
    }
   ],
   "source": [
    "# TODO: Replace <FILL IN> with appropriate code\n",
    "wordPairs = wordsRDD.map(lambda x:(x,1))\n",
    "print (wordPairs.collect())"
   ]
  },
  {
   "cell_type": "markdown",
   "id": "0b338add",
   "metadata": {},
   "source": [
    "## Part 2: Counting with pair RDDs"
   ]
  },
  {
   "cell_type": "markdown",
   "id": "0429bf5e",
   "metadata": {},
   "source": [
    "Now, let's count the number of times a particular word appears in the RDD. There are multiple ways to perform the counting, but some are much less efficient than others.\n",
    "\n",
    "A naive approach would be to `collect()` and count them. The `collect()` first collects all data from the workers to the driver program. This can be inefficient and memory-consuming, especially with large datasets.\n",
    "\n",
    "### (2a) `collect` and `Counter` to count all words\n",
    "\n",
    "First, apply collect() to the RDD to mount them in the driver program.\n",
    "Then count the words using [collections.Counter()](https://docs.python.org/3/library/collections.html#collections.Counter)"
   ]
  },
  {
   "cell_type": "code",
   "execution_count": 10,
   "id": "f37ef124",
   "metadata": {},
   "outputs": [
    {
     "name": "stdout",
     "output_type": "stream",
     "text": [
      "The word 'cat' appears 2 times.\n",
      "The word 'elephant' appears 1 times.\n",
      "The word 'rat' appears 2 times.\n"
     ]
    }
   ],
   "source": [
    "# TODO: Replace <FILL IN> with appropriate code\n",
    "from collections import Counter\n",
    "allWords = wordsRDD.collect()\n",
    "wordCounts = Counter(allWords)\n",
    "for word, count in wordCounts.items():\n",
    "    print(f\"The word '{word}' appears {count} times.\")"
   ]
  },
  {
   "cell_type": "markdown",
   "id": "16fc67ca",
   "metadata": {},
   "source": [
    "### (2b) `groupByKey()` approach\n",
    "Another approach is based on using the [groupByKey()](http://spark.apache.org/docs/latest/api/python/pyspark.html#pyspark.RDD.groupByKey) transformation. As the name implies, the `groupByKey()` transformation groups all the elements of the RDD with the same key into a single list in one of the partitions.\n",
    "\n",
    "There are two problems with using `groupByKey()`:\n",
    "  + The operation requires a lot of data movement to move all the values into the appropriate partitions.\n",
    "  + The lists can be very large. Consider a word count of English Wikipedia: the lists for common words (e.g., the, a, etc.) would be huge and could exhaust the available memory in a worker.\n",
    "\n",
    "Use `groupByKey()` to generate a pair RDD of type `('word', iterator)`."
   ]
  },
  {
   "cell_type": "code",
   "execution_count": 11,
   "id": "a2b7813c",
   "metadata": {},
   "outputs": [
    {
     "name": "stderr",
     "output_type": "stream",
     "text": [
      "[Stage 5:============================================>              (3 + 1) / 4]\r"
     ]
    },
    {
     "name": "stdout",
     "output_type": "stream",
     "text": [
      "cat: [1, 1]\n",
      "elephant: [1]\n",
      "rat: [1, 1]\n"
     ]
    },
    {
     "name": "stderr",
     "output_type": "stream",
     "text": [
      "                                                                                \r"
     ]
    }
   ],
   "source": [
    "# TODO: Replace <FILL IN> with appropriate code\n",
    "# Note that groupByKey requires no parameters\n",
    "wordsGrouped = wordPairs.groupByKey()\n",
    "for key, value in wordsGrouped.collect():\n",
    "    print ('{0}: {1}'.format(key, list(value)))"
   ]
  },
  {
   "cell_type": "markdown",
   "id": "6032c64d",
   "metadata": {},
   "source": [
    "### Use `groupByKey()` to obtain the counts\n",
    "\n",
    "Using the `groupByKey()` transformation creates an RDD containing 3 elements, each of which is a pair of a word and a Python iterator.\n",
    "\n",
    "Now sum the iterator using a `map()` transformation.  The result should be a pair RDD consisting of (word, count) pairs."
   ]
  },
  {
   "cell_type": "code",
   "execution_count": 12,
   "id": "1fe58981",
   "metadata": {},
   "outputs": [
    {
     "name": "stdout",
     "output_type": "stream",
     "text": [
      "The word 'cat' appears 2 times.\n",
      "The word 'elephant' appears 1 times.\n",
      "The word 'rat' appears 2 times.\n"
     ]
    }
   ],
   "source": [
    "# TODO: Replace <FILL IN> with appropriate code\n",
    "wordCountsGrouped = wordsGrouped.map(lambda x:(x[0],sum(x[1])))\n",
    "wordCounts = wordCountsGrouped.collect()\n",
    "for word, count in wordCounts:\n",
    "    print(f\"The word '{word}' appears {count} times.\")"
   ]
  },
  {
   "cell_type": "markdown",
   "id": "a20c78d5",
   "metadata": {},
   "source": [
    "### (2c) Counting using `reduceByKey`\n",
    "\n",
    "A better approach is to start from the pair RDD and then use the [reduceByKey()](http://spark.apache.org/docs/latest/api/python/pyspark.html#pyspark.RDD.reduceByKey) transformation to create a new pair RDD. The `reduceByKey()` transformation gathers together pairs that have the same key and applies the function provided to two values at a time, iteratively reducing all of the values to a single value. `reduceByKey()` operates by applying the function first within each partition on a per-key basis and then across the partitions, allowing it to scale efficiently to large datasets. \n",
    "\n",
    "In our example, `reduceByKey()` is applied which merges the values (counts) for each key (word) before shuffling. This significantly reduces the amount of data being shuffled because only unique keys with aggregated counts are shuffled. It should be the most efficient method among three methods."
   ]
  },
  {
   "cell_type": "code",
   "execution_count": 13,
   "id": "8e8bca70",
   "metadata": {},
   "outputs": [
    {
     "name": "stdout",
     "output_type": "stream",
     "text": [
      "The word 'cat' appears 2 times.\n",
      "The word 'elephant' appears 1 times.\n",
      "The word 'rat' appears 2 times.\n"
     ]
    }
   ],
   "source": [
    "# TODO: Replace <FILL IN> with appropriate code\n",
    "# Note that reduceByKey takes in a function that accepts two values and returns a single value\n",
    "wordCountsGrouped = wordPairs.reduceByKey(lambda x,y:x+y)\n",
    "wordCounts = wordCountsGrouped.collect()\n",
    "for word, count in wordCounts:\n",
    "    print(f\"The word '{word}' appears {count} times.\")"
   ]
  },
  {
   "cell_type": "markdown",
   "id": "30a2d5a1",
   "metadata": {},
   "source": [
    "### (2d) All together\n",
    "\n",
    "The expert version of the code performs the `map()` to pair RDD, `reduceByKey()` transformation, and `collect` in one statement."
   ]
  },
  {
   "cell_type": "code",
   "execution_count": 14,
   "id": "488c2f3b",
   "metadata": {},
   "outputs": [
    {
     "name": "stdout",
     "output_type": "stream",
     "text": [
      "[('cat', 2), ('elephant', 1), ('rat', 2)]\n"
     ]
    }
   ],
   "source": [
    "# TODO: Replace <FILL IN> with appropriate code\n",
    "wordCountsCollected = (wordsRDD\n",
    "                       .map(lambda x:(x,1))\n",
    "                       .reduceByKey(lambda x,y:x+y)\n",
    "                       .collect())\n",
    "print (wordCountsCollected)"
   ]
  },
  {
   "cell_type": "markdown",
   "id": "99f05ffd",
   "metadata": {},
   "source": [
    "### (2e) Time Complexity Analysis\n",
    "\n",
    " Now, let's compare the running time of each method. \n",
    "\n",
    "First, write three functions that pass in wordRDD as a paramter, and print out the word counts for each word.  \n",
    "\n",
    "__Note__: Just to measure the time it takes to run the wordRDD, we have commented out all the print statements. You can include the commented code to check the correctness of your algorithm."
   ]
  },
  {
   "cell_type": "code",
   "execution_count": 15,
   "id": "511f9ec2",
   "metadata": {},
   "outputs": [],
   "source": [
    "# TODO: Replace <FILL IN> with appropriate code\n",
    "def wordCount_2a(wordsRDD):\n",
    "    \"\"\"Count the word appearances in the RDD file, using the collect() and Counter() method\n",
    "       we have provided in 2(a).\n",
    "    Args:\n",
    "        wordsRDD: an RDD object of words\n",
    "    \"\"\"\n",
    "    #<FILL IN>\n",
    "    allWords = wordsRDD.collect()\n",
    "    wordCounts = Counter(allWords)\n",
    "    #for word, count in wordCounts.items():\n",
    "    #    print(f\"The word '{word}' appears {count} times.\")\n",
    "     \n",
    "    \n",
    "def wordCount_2b(wordsRDD):\n",
    "    \"\"\"Count the word appearances in the RDD file, using the groupby() method\n",
    "       we have provided in 2(b). \n",
    "    Args:\n",
    "        wordsRDD: an RDD object of words\n",
    "    \"\"\"\n",
    "    #<FILL IN>\n",
    "    wordCountsGrouped = wordsGrouped.map(lambda x:(x[0],sum(x[1])))\n",
    "    wordCounts = wordCountsGrouped.collect()\n",
    "    #for word, count in wordCounts.items():\n",
    "    #    print(f\"The word '{word}' appears {count} times.\")\n",
    "        \n",
    "        \n",
    "def wordCount_2c(wordsRDD):\n",
    "    \"\"\"Count the word appearances in the RDD file, using the reducekey() method\n",
    "       we have provided in 2(c). \n",
    "    Args:\n",
    "        wordsRDD: an RDD object of words\n",
    "    \"\"\"\n",
    "    #<FILL IN>\n",
    "    wordCountsGrouped = wordPairs.reduceByKey(lambda x,y:x+y)\n",
    "    wordCounts = wordCountsGrouped.collect()\n",
    "    #for word, count in wordCounts.items():\n",
    "    #    print(f\"The word '{word}' appears {count} times.\")"
   ]
  },
  {
   "cell_type": "markdown",
   "id": "a791a8ec",
   "metadata": {},
   "source": [
    "Now, let's build a list with more words, and test out the time for each function to count all the words. "
   ]
  },
  {
   "cell_type": "code",
   "execution_count": 16,
   "id": "176b3195",
   "metadata": {},
   "outputs": [
    {
     "name": "stdout",
     "output_type": "stream",
     "text": [
      "Time to run 2(a): 0.107210\n",
      "\n",
      "Time to run 2(b): 0.437617\n",
      "\n",
      "Time to run 2(c): 0.777972\n"
     ]
    }
   ],
   "source": [
    "import time\n",
    "\n",
    "start_time = time.time()\n",
    "wordCount_2a(wordsRDD)\n",
    "\n",
    "print(\"Time to run 2(a): %3f\" % (time.time() - start_time))\n",
    "print()\n",
    "\n",
    "start_time = time.time()\n",
    "wordCount_2b(wordsRDD)\n",
    "print(\"Time to run 2(b): %3f\" % (time.time() - start_time))\n",
    "print()\n",
    "\n",
    "start_time = time.time()\n",
    "wordCount_2c(wordsRDD)\n",
    "print(\"Time to run 2(c): %3f\" % (time.time() - start_time))"
   ]
  },
  {
   "cell_type": "markdown",
   "id": "cdbc7162",
   "metadata": {},
   "source": [
    "#### Prevsiouly we have hypothesized that 2(c) (utilizing `reduceByKey()`) is the most efficient method across three methods. Are the observations of the time complexity above consistent with our hypothesis? If yes, please explain. If not, provide potential reasons of the inconsistency?"
   ]
  },
  {
   "cell_type": "markdown",
   "id": "8325fc50",
   "metadata": {},
   "source": [
    "<span style=\"color:red\"> **TODO: FILL IN YOUR ANSWER HERE!**\n",
    "    \n",
    "    It seems that 2(a) (using collect() and Counter()) took the least time to execute, contrary to our hypothesis while 2(c) took the most time. The size of the dataset used for the experiment may not be large enough to fully leverage the parallel processing capabilities of Spark. As a result, the overhead associated with shuffling and reducing data in 2(b) and 2(c) could outweigh the benefits of parallelism."
   ]
  },
  {
   "cell_type": "markdown",
   "id": "59686020",
   "metadata": {},
   "source": [
    "### (2f) Time Complexity Test for Large Dataset"
   ]
  },
  {
   "cell_type": "markdown",
   "id": "3a3b4e32",
   "metadata": {},
   "source": [
    "Just run the following code, and comment on your observations of time complexity it takes for 2(a), 2(b), 2(c). "
   ]
  },
  {
   "cell_type": "code",
   "execution_count": 17,
   "id": "8d202a94",
   "metadata": {
    "scrolled": false
   },
   "outputs": [
    {
     "data": {
      "image/png": "[encoded data removed]",
      "text/plain": [
       "<Figure size 640x480 with 1 Axes>"
      ]
     },
     "metadata": {},
     "output_type": "display_data"
    }
   ],
   "source": [
    "def get_running_time(wordsRDD):\n",
    "    start_time = time.time()\n",
    "    wordCount_2a(wordsRDD)\n",
    "    atime = time.time() - start_time\n",
    "\n",
    "\n",
    "    start_time = time.time()\n",
    "    wordCount_2b(wordsRDD)\n",
    "    btime = time.time() - start_time\n",
    "\n",
    "    start_time = time.time()\n",
    "    wordCount_2c(wordsRDD)\n",
    "    ctime = time.time() - start_time\n",
    "    \n",
    "    '''\n",
    "    print(\"Atime=:\",atime)\n",
    "    print(\"Btime=:\",btime)\n",
    "    print(\"Ctime=:\",ctime)\n",
    "    '''\n",
    "    return [atime,btime,ctime]\n",
    "\n",
    "\n",
    "#Finding the running time for small size, median size and large size datasets \n",
    "smallWordsList = ['cat', 'elephant', 'rat', 'rat', 'cat']\n",
    "smallWordsRDD = sc.parallelize(smallWordsList, 32)\n",
    "smallRunningTime = get_running_time(smallWordsRDD)\n",
    "\n",
    "moderateWordsList = ['cat']*500000 + ['elephant'] *500000 + ['rat']*500000\n",
    "moderateWordsRDD = sc.parallelize(moderateWordsList, 32)\n",
    "moderateRunningTime = get_running_time(moderateWordsRDD)\n",
    "\n",
    "largeWordsList = ['cat']*1000000 + ['elephant'] *1000000 + ['rat']*1000000\n",
    "largeWordsRDD = sc.parallelize(largeWordsList, 32)\n",
    "largeRunningTime = get_running_time(largeWordsRDD)\n",
    "\n",
    "overallTime = [list(row) for row in zip(*[smallRunningTime,moderateRunningTime,largeRunningTime])]\n",
    "\n",
    "labels = ['Method 2a', 'Method 2b', 'Method 2c']\n",
    "datasets = ['smallDataset', 'mediumDatset', 'largeDatset']\n",
    "\n",
    "\n",
    "import matplotlib.pyplot as plt\n",
    "\n",
    "#plot the time it takes for three methods\n",
    "for i, method in enumerate(overallTime):\n",
    "    plt.plot(datasets, method, label=labels[i], marker='o')\n",
    "\n",
    "plt.xlabel('Dataset Size')\n",
    "plt.ylabel('Running Time')\n",
    "plt.title('Comparison of Running Times for three Methods')\n",
    "plt.legend()\n",
    "\n",
    "plt.tight_layout()\n",
    "plt.grid(True)\n",
    "plt.show()"
   ]
  },
  {
   "cell_type": "markdown",
   "id": "52e694e0",
   "metadata": {},
   "source": [
    "#### Write down your hypothesis: if the dataset is growing larger and larger. What could happen? Which method should take the least amount of time?"
   ]
  },
  {
   "cell_type": "markdown",
   "id": "c8eca935",
   "metadata": {},
   "source": [
    "<span style=\"color:red\">**TODO: FILL IN YOUR ANSWER HERE!**\n",
    "    \n",
    "    - With a larger dataset, the distribution of words across partitions becomes more uniform, reducing the potential for skewed data distribution. This could benefit methods like reduceByKey() and groupByKey() by allowing for more balanced workload distribution and efficient parallel processing. It can be seen that as the dataset size increases, the time of method 2a increases uniformly. \n",
    "    \n",
    "    - It is expected that the reduceByKey() method should take the least amount of time as the dataset grows larger. This is because reduceByKey() performs local aggregation within each partition before shuffling the results. This can significantly reduce the amount of data transferred over the network. \n",
    "    \n",
    "    - groupByKey() can be inefficient for large datasets, because all the values associated with each key are shuffled across the network and stored in memory on the worker nodes. This can lead to high memory usage and slow performance.\n",
    "   \n",
    "    \n",
    "    \n",
    "    \n",
    "   "
   ]
  },
  {
   "cell_type": "markdown",
   "id": "b3860eab",
   "metadata": {},
   "source": [
    "## Part 3: Calculating wordsRDD Properties with Reduce()"
   ]
  },
  {
   "cell_type": "markdown",
   "id": "6efee04c",
   "metadata": {},
   "source": [
    "### (3a) Unique words\n",
    "\n",
    "Calculate the number of unique words in `wordsRDD`.  You can use other RDDs that you have already created to make this easier."
   ]
  },
  {
   "cell_type": "code",
   "execution_count": 18,
   "id": "5dfb8344",
   "metadata": {},
   "outputs": [
    {
     "name": "stdout",
     "output_type": "stream",
     "text": [
      "[('cat', 2), ('elephant', 1), ('rat', 2)]\n",
      "3\n"
     ]
    }
   ],
   "source": [
    "# TODO: Replace <FILL IN> with appropriate code\n",
    "uniqueWords = (wordCountsGrouped.collect()) #can also use wordsRDD.distinct().collect() on the original RDD\n",
    "print (uniqueWords)\n",
    "print (len(uniqueWords))"
   ]
  },
  {
   "cell_type": "markdown",
   "id": "8d1c7e8b",
   "metadata": {},
   "source": [
    "### (3b) Finding the longest word using `reduce()`\n",
    "\n",
    "Finding the longest words in `wordsRDD``.\n",
    "\n",
    "Note: `lambda` function can also take in two parameters.\n",
    "For example, `lambda a,b : a+b` finds the sum of two numbers, a and b. You can operate the lambda function to find the sum of a list of numbers. See below. \n",
    "```\n",
    "from functools import reduce\n",
    "\n",
    "numbers = [1, 2, 3]\n",
    "sum_result = reduce(lambda a, b: a+b, numbers)\n",
    "print(sum_result)  # Output: 6\n",
    "```\n",
    "\n",
    "Similar to the calculation on summation, we can use `lambda` to find the longest word in the list."
   ]
  },
  {
   "cell_type": "code",
   "execution_count": 19,
   "id": "17d3b2da",
   "metadata": {},
   "outputs": [
    {
     "name": "stdout",
     "output_type": "stream",
     "text": [
      "elephant\n"
     ]
    }
   ],
   "source": [
    "# TODO: Replace <FILL IN> with appropriate code\n",
    "longestWord = (wordsRDD.reduce(lambda a,b : a if len(a)>len(b) else b ))\n",
    "print(longestWord)"
   ]
  },
  {
   "cell_type": "markdown",
   "id": "88af11af",
   "metadata": {},
   "source": [
    "### (3c) Finding the least frequent word using reduce()"
   ]
  },
  {
   "cell_type": "markdown",
   "id": "7ca90ad0",
   "metadata": {},
   "source": [
    "Finding the **least** frequent words in `wordsRDD`. Remember, we have previously found the word counts with `wordCountsGrouped`. Now, we just need to apply `reduce()` with the `lambda` function to the `wordCountsGrouped`. "
   ]
  },
  {
   "cell_type": "code",
   "execution_count": 20,
   "id": "bc45d9a2",
   "metadata": {},
   "outputs": [
    {
     "name": "stdout",
     "output_type": "stream",
     "text": [
      "('elephant', 1)\n"
     ]
    }
   ],
   "source": [
    "# TODO: Replace <FILL IN> with appropriate code\n",
    "leastFrequent = wordCountsGrouped.reduce(lambda a,b: a if a[1]<b[1] else b)\n",
    "print(leastFrequent)"
   ]
  },
  {
   "cell_type": "markdown",
   "id": "bfa252c6",
   "metadata": {},
   "source": [
    "### (3d) Limitations of reduce()\n",
    "\n",
    "The ``reduce()`` method in Apache Spark's RDD requires that the lambda function provided is both associative and commutative. If it's not, you can get unpredictable and incorrect results due to the distributed nature of the computation. To demonstrate this, let's consider an example using subtraction, which is not associative:\n",
    "\n",
    "``lambda x,y : x-y``\n",
    "\n",
    "When executed, you'll get the result of sequentially subtracting every number in the list from the previous result. For a list of numbers from $0, 1, 2, ...99$, this will give you: \n",
    "\n",
    "$$0 − 1 − 2 − 3−... − 99 = −4950$$\n",
    "\n",
    "and the result will be $−4950$.\n",
    "\n",
    "Run the code below and change the numSlices (the number of partitions the RDD will be divided into) in ``sc.parallelize(data, numSlices)``. "
   ]
  },
  {
   "cell_type": "code",
   "execution_count": 21,
   "id": "d2fdc4fe",
   "metadata": {},
   "outputs": [
    {
     "name": "stdout",
     "output_type": "stream",
     "text": [
      "4050\n"
     ]
    }
   ],
   "source": [
    "# TODO: Replace <FILL IN> with appropriate code\n",
    "# Run the following code four times with different numSlices in the sc.parallelize\n",
    "\n",
    "numberList = list(range(100))\n",
    "numberRdd = sc.parallelize(numberList,numSlices=4)\n",
    "result = numberRdd.reduce(lambda x, y: x - y)\n",
    "print(result)"
   ]
  },
  {
   "cell_type": "markdown",
   "id": "24c20815",
   "metadata": {},
   "source": [
    "#### What is your observation? Why does it occur?"
   ]
  },
  {
   "cell_type": "markdown",
   "id": "e6c9bc12",
   "metadata": {},
   "source": [
    "<span style=\"color:red\">**TODO: FILL IN YOUR ANSWER HERE!**\n",
    "    \n",
    "    numSlices=1; Result= -4950\n",
    "    numSlices=2; Result= 2400\n",
    "    numSlices=3; Result= 3696\n",
    "    numSlices=4; Result= 4050\n",
    "    \n",
    "    The result varies depending on the number of slices (partitions) the RDD is divided into.\n",
    "    numSlices=1; Result= -4950 because the code is executed with the entire list of numbers being processed sequentially with no parallelism. \n",
    "    \n",
    "    On the other hand, when the RDD is partitioned into multiple slices (eg: 2,3,4), the result changes. This occurs because the reduce() operation is applied independently within each partition first, and then the results of each partition are combined. Since subtraction is not associative, the order in which the numbers are subtracted affects the final result leading to unpredictable and incorrect results.\n",
    "    \n",
    "    "
   ]
  },
  {
   "cell_type": "markdown",
   "id": "b1fb9a17",
   "metadata": {},
   "source": [
    "## Part 4: Apply word count to a file"
   ]
  },
  {
   "cell_type": "markdown",
   "id": "e6999918",
   "metadata": {},
   "source": [
    "In this section we will finish developing our word count application.  We'll have to build the `wordCount` function, deal with real world problems like capitalization and punctuation, load in our data source, and compute the word count on the new data."
   ]
  },
  {
   "cell_type": "markdown",
   "id": "6ab5b562",
   "metadata": {},
   "source": [
    "### (4a) `wordCount` function\n",
    "\n",
    "First, define a function for word counting.  You should reuse the techniques that have been covered in earlier parts of this assignment.  This function should take in an RDD that is a list of words like `wordsRDD` and return a pair RDD that has all of the words and their associated counts."
   ]
  },
  {
   "cell_type": "code",
   "execution_count": 22,
   "id": "c4438c18",
   "metadata": {},
   "outputs": [
    {
     "name": "stdout",
     "output_type": "stream",
     "text": [
      "[('cat', 2), ('elephant', 1), ('rat', 2)]\n"
     ]
    }
   ],
   "source": [
    "# TODO: Replace <FILL IN> with appropriate code\n",
    "def wordCount(wordListRDD):\n",
    "    \"\"\"Creates a pair RDD with word counts from an RDD of words.\n",
    "\n",
    "    Args:\n",
    "        wordListRDD (RDD of str): An RDD consisting of words.\n",
    "\n",
    "    Returns:\n",
    "        RDD of (str, int): An RDD consisting of (word, count) tuples.\n",
    "    \"\"\"\n",
    "    #<FILL IN>\n",
    "    wordPairs = wordListRDD.map(lambda x: (x, 1)).reduceByKey(lambda x, y: x + y)\n",
    "    return wordPairs\n",
    "    \n",
    "print (wordCount(wordsRDD).collect())"
   ]
  },
  {
   "cell_type": "markdown",
   "id": "bbc25ae8",
   "metadata": {},
   "source": [
    "### (4b) Capitalization and punctuation\n",
    "\n",
    "Real world files are more complicated than the data we have been using thus far. Some of the issues we have to address are:\n",
    "  + Words should be counted independent of their capitialization (e.g., Spark and spark should be counted as the same word).\n",
    "  + All punctuation should be removed.\n",
    "  + Any leading or trailing spaces on a line should be removed.\n",
    "\n",
    "Define the function `removePunctuation` that converts all text to lower case, removes any punctuation, and removes leading and trailing spaces.  Use the Python [re](https://docs.python.org/2/library/re.html) module to remove any text that is not a letter, number, or space. Reading `help(re.sub)` might be useful.\n",
    "If you are unfamiliar with regular expressions, you may want to review [this tutorial](https://developers.google.com/edu/python/regular-expressions) from Google.  Also, [this website](https://regex101.com/#python) is  a great resource for debugging your regular expression."
   ]
  },
  {
   "cell_type": "code",
   "execution_count": 28,
   "id": "608d1664",
   "metadata": {},
   "outputs": [
    {
     "name": "stdout",
     "output_type": "stream",
     "text": [
      "hi you\n",
      "no underscore\n",
      "remove punctuation then spaces\n"
     ]
    }
   ],
   "source": [
    "# TODO: Replace <FILL IN> with appropriate code\n",
    "import re\n",
    "def removePunctuation(text):\n",
    "    \"\"\"Removes punctuation, changes to lower case, and strips leading and trailing spaces.\n",
    "\n",
    "    Note:\n",
    "        Only spaces, letters, and numbers should be retained.  Other characters should should be\n",
    "        eliminated (e.g. it's becomes its).  Leading and trailing spaces should be removed after\n",
    "        punctuation is removed.\n",
    "\n",
    "    Args:\n",
    "        text (str): A string.\n",
    "\n",
    "    Returns:\n",
    "        str: The cleaned up string.\n",
    "    \"\"\"\n",
    "    #<FILL IN>\n",
    "    result=text.lower()\n",
    "    result=re.sub(r'[^a-z0-9\\s+]', '',result)\n",
    "    result=result.strip()\n",
    "    return result\n",
    "    \n",
    "print (removePunctuation('Hi, you!'))\n",
    "print (removePunctuation(' No under_score!'))\n",
    "print (removePunctuation(' *      Remove punctuation then spaces  * '))"
   ]
  },
  {
   "cell_type": "markdown",
   "id": "e3fddb09",
   "metadata": {},
   "source": [
    "### (4c) Load a text file\n",
    "\n",
    "For the next part of this lab, we will use the [Complete Works of William Shakespeare](http://www.gutenberg.org/ebooks/100) from [Project Gutenberg](http://www.gutenberg.org/wiki/Main_Page). To convert a text file into an RDD, we use the `SparkContext.textFile()` method. We also apply the recently defined `removePunctuation()` function using a `map()` transformation to strip out the punctuation and change all text to lower case.  Since the file is large we use `take(15)`, so that we only print 15 lines."
   ]
  },
  {
   "cell_type": "code",
   "execution_count": 29,
   "id": "190ac1ff",
   "metadata": {},
   "outputs": [
    {
     "name": "stderr",
     "output_type": "stream",
     "text": [
      "[Stage 43:===========================================>              (6 + 1) / 8]\r"
     ]
    },
    {
     "name": "stdout",
     "output_type": "stream",
     "text": [
      "0: the project gutenberg ebook of the complete works of william shakespeare by\n",
      "1: william shakespeare\n",
      "2: \n",
      "3: this ebook is for the use of anyone anywhere at no cost and with\n",
      "4: almost no restrictions whatsoever  you may copy it give it away or\n",
      "5: reuse it under the terms of the project gutenberg license included\n",
      "6: with this ebook or online at wwwgutenbergorg\n",
      "7: \n",
      "8: this is a copyrighted project gutenberg ebook details below\n",
      "9: please follow the copyright guidelines in this file\n",
      "10: \n",
      "11: title the complete works of william shakespeare\n",
      "12: \n",
      "13: author william shakespeare\n",
      "14: \n"
     ]
    },
    {
     "name": "stderr",
     "output_type": "stream",
     "text": [
      "                                                                                \r"
     ]
    }
   ],
   "source": [
    "# Just run this code\n",
    "\n",
    "fileName = 'file:///ocean/projects/cis220071p/shared/data/shakespeare.txt'\n",
    "\n",
    "shakespeareRDD = sc.textFile(fileName, 8).map(removePunctuation)\n",
    "sampleLines = ('\\n'.join(shakespeareRDD\n",
    "                .zipWithIndex()  # to (line, lineNum)\n",
    "                .map(lambda t: '{0}: {1}'.format(t[1], t[0]))  # to 'lineNum: line'\n",
    "                .take(15)))\n",
    "print (sampleLines)"
   ]
  },
  {
   "cell_type": "markdown",
   "id": "11286180",
   "metadata": {},
   "source": [
    "### (4d) Words from lines\n",
    "\n",
    "Before we can use the `wordcount()` function, we have to address two issues with the format of the RDD:\n",
    "  + The first issue is that we need to split each line by its spaces. ** Performed in (4d). **\n",
    "  + The second issue is we need to filter out empty lines. ** Performed in (4e). **\n",
    "\n",
    "Apply a transformation that will split each element of the RDD by its spaces. For each element of the RDD, you should apply Python's string [split()](https://docs.python.org/2/library/string.html#string.split) function. You might think that a `map()` transformation is the way to do this, but think about what the result of the `split()` function will be.\n",
    "\n",
    "> Note:\n",
    "> * Do not use the default implementation of `split()`, but pass in a separator value.  For example, to split `line` by commas you would use `line.split(',')`."
   ]
  },
  {
   "cell_type": "code",
   "execution_count": 30,
   "id": "e963f8ce",
   "metadata": {},
   "outputs": [
    {
     "name": "stderr",
     "output_type": "stream",
     "text": [
      "[Stage 46:===========================================>              (6 + 1) / 8]\r"
     ]
    },
    {
     "name": "stdout",
     "output_type": "stream",
     "text": [
      "['zwaggerd', 'zounds', 'zounds', 'zounds', 'zounds']\n",
      "949103\n"
     ]
    },
    {
     "name": "stderr",
     "output_type": "stream",
     "text": [
      "                                                                                \r"
     ]
    }
   ],
   "source": [
    "# TODO: Replace <FILL IN> with appropriate code\n",
    "shakespeareWordsRDD = shakespeareRDD.flatMap(lambda line:line.split(' '))\n",
    "shakespeareWordCount = shakespeareWordsRDD.count()\n",
    "print (shakespeareWordsRDD.top(5))\n",
    "print (shakespeareWordCount)"
   ]
  },
  {
   "cell_type": "markdown",
   "id": "a863e2bc",
   "metadata": {},
   "source": [
    "### (4e) Remove empty elements\n",
    "The next step is to filter out the empty elements. Remove all entries where the word is ''."
   ]
  },
  {
   "cell_type": "code",
   "execution_count": 34,
   "id": "10b528b6",
   "metadata": {},
   "outputs": [
    {
     "name": "stderr",
     "output_type": "stream",
     "text": [
      "[Stage 50:====================================>                     (5 + 1) / 8]\r"
     ]
    },
    {
     "name": "stdout",
     "output_type": "stream",
     "text": [
      "903731\n"
     ]
    },
    {
     "name": "stderr",
     "output_type": "stream",
     "text": [
      "                                                                                \r"
     ]
    }
   ],
   "source": [
    "# TODO: Replace  with appropriate code\n",
    "shakeWordsRDD = shakespeareWordsRDD.filter(lambda line:line!=\"\")\n",
    "shakeWordCount = shakeWordsRDD.count()\n",
    "print (shakeWordCount)"
   ]
  },
  {
   "cell_type": "markdown",
   "id": "26b66df6",
   "metadata": {},
   "source": [
    "### (4f) Count the words\n",
    "\n",
    "We now have an RDD that is only words.  Next, let's apply the `wordCount()` function to produce a list of word counts. We can view the top 15 words by using the `takeOrdered()` action; however, since the elements of the RDD are pairs, we need a custom sort function that sorts using the value part of the pair.\n",
    "\n",
    "You'll notice that many of the words are common English words. These are called stopwords. In a later lab, we will see how to eliminate them from the results.\n",
    "Use the `wordCount()` function and `takeOrdered()` to obtain the fifteen most common words and their counts."
   ]
  },
  {
   "cell_type": "code",
   "execution_count": 37,
   "id": "2c63bd4b",
   "metadata": {},
   "outputs": [
    {
     "name": "stderr",
     "output_type": "stream",
     "text": [
      "[Stage 55:==================================================>       (7 + 1) / 8]\r"
     ]
    },
    {
     "name": "stdout",
     "output_type": "stream",
     "text": [
      "the: 27825\n",
      "and: 26791\n",
      "i: 20681\n",
      "to: 19262\n",
      "of: 18289\n",
      "a: 14667\n",
      "you: 13716\n",
      "my: 12480\n",
      "that: 11135\n",
      "in: 11027\n",
      "is: 9621\n",
      "not: 8745\n",
      "for: 8261\n",
      "with: 8046\n",
      "me: 7768\n"
     ]
    },
    {
     "name": "stderr",
     "output_type": "stream",
     "text": [
      "                                                                                \r"
     ]
    }
   ],
   "source": [
    "# TODO: Replace <FILL IN> with appropriate code\n",
    "top15WordsAndCounts = wordCount(shakeWordsRDD).takeOrdered(15, lambda x: -1 * x[1])\n",
    "print ('\\n'.join(map(lambda t: '{0}: {1}'.format(t[0], t[1]), top15WordsAndCounts)))"
   ]
  },
  {
   "cell_type": "markdown",
   "id": "f807a73d",
   "metadata": {},
   "source": [
    "### The End"
   ]
  },
  {
   "cell_type": "code",
   "execution_count": null,
   "id": "de91227b",
   "metadata": {},
   "outputs": [],
   "source": []
  }
 ],
 "metadata": {
  "kernelspec": {
   "display_name": "Python 3 (ipykernel)",
   "language": "python",
   "name": "python3"
  },
  "language_info": {
   "codemirror_mode": {
    "name": "ipython",
    "version": 3
   },
   "file_extension": ".py",
   "mimetype": "text/x-python",
   "name": "python",
   "nbconvert_exporter": "python",
   "pygments_lexer": "ipython3",
   "version": "3.9.13"
  }
 },
 "nbformat": 4,
 "nbformat_minor": 5
}
